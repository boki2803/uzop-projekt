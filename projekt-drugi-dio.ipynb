{
 "cells": [
  {
   "cell_type": "markdown",
   "metadata": {
    "id": "jc_8XakJdoj_"
   },
   "source": [
    "# Uvod u znanost o podacima (UZOP) - Projekt - Drugi dio\n",
    "## Student: Borna Rebić Taučer\n",
    "## JMBAG:0036526910"
   ]
  },
  {
   "cell_type": "code",
   "execution_count": 30,
   "metadata": {
    "id": "q0cBJFiLiDqQ"
   },
   "outputs": [],
   "source": [
    "import pandas as pd\n",
    "import seaborn as sns\n",
    "import matplotlib.pyplot as plt"
   ]
  },
  {
   "cell_type": "markdown",
   "metadata": {},
   "source": [
    "Učitavanje podataka"
   ]
  },
  {
   "cell_type": "code",
   "execution_count": null,
   "metadata": {
    "id": "UsDFVqz5dnNR"
   },
   "outputs": [
    {
     "name": "stdout",
     "output_type": "stream",
     "text": [
      "Stupac sex\n",
      "sex\n",
      "Female    194\n",
      "Male      726\n",
      "Name: sex, dtype: int64\n",
      "-----------\n",
      "Stupac dataset\n",
      "dataset\n",
      "Cleveland        304\n",
      "Hungary          293\n",
      "Switzerland      123\n",
      "VA Long Beach    200\n",
      "Name: dataset, dtype: int64\n",
      "-----------\n",
      "Stupac cp\n",
      "cp\n",
      "asymptomatic       496\n",
      "atypical angina    174\n",
      "non-anginal        204\n",
      "typical angina      46\n",
      "Name: cp, dtype: int64\n",
      "-----------\n",
      "Stupac fbs\n",
      "fbs\n",
      "False    692\n",
      "True     138\n",
      "Name: fbs, dtype: int64\n",
      "-----------\n",
      "Stupac restecg\n",
      "restecg\n",
      "lv hypertrophy      188\n",
      "normal              551\n",
      "st-t abnormality    179\n",
      "Name: restecg, dtype: int64\n",
      "-----------\n",
      "Stupac exang\n",
      "exang\n",
      "False    528\n",
      "True     337\n",
      "Name: exang, dtype: int64\n",
      "-----------\n",
      "Stupac slope\n",
      "slope\n",
      "downsloping     63\n",
      "flat           345\n",
      "upsloping      203\n",
      "Name: slope, dtype: int64\n",
      "-----------\n",
      "Stupac thal\n",
      "thal\n",
      "fixed defect          46\n",
      "normal               196\n",
      "reversable defect    192\n",
      "Name: thal, dtype: int64\n",
      "-----------\n"
     ]
    }
   ],
   "source": [
    "df = pd.read_csv(\"heart_disease_uci.csv\", index_col=False)\n",
    "df.head(8)"
   ]
  },
  {
   "cell_type": "markdown",
   "metadata": {
    "id": "R36_1na2ePWa"
   },
   "source": [
    "Brisanje monotonih i konstantnih vrijednosti"
   ]
  },
  {
   "cell_type": "code",
   "execution_count": null,
   "metadata": {
    "id": "AZ-tPIMkeVD1"
   },
   "outputs": [
    {
     "data": {
      "text/plain": [
       "age           0\n",
       "sex           0\n",
       "dataset       0\n",
       "cp            0\n",
       "trestbps     59\n",
       "chol         30\n",
       "fbs          90\n",
       "restecg       2\n",
       "thalch       55\n",
       "exang        55\n",
       "oldpeak      62\n",
       "slope       309\n",
       "ca          611\n",
       "thal        486\n",
       "num           0\n",
       "dtype: int64"
      ]
     },
     "execution_count": 32,
     "metadata": {},
     "output_type": "execute_result"
    }
   ],
   "source": [
    "df = df.drop(columns=df.columns[df.nunique() <= 1])\n",
    "df = df.drop(columns=[\"id\"]) #monotone vrijednosti\n",
    "\n",
    "df.isna().sum()"
   ]
  },
  {
   "cell_type": "markdown",
   "metadata": {
    "id": "t292XnhGeWoO"
   },
   "source": [
    "Zamjenu nedostajućih vrijednosti"
   ]
  },
  {
   "cell_type": "code",
   "execution_count": null,
   "metadata": {
    "id": "Orq6jIxVeob3"
   },
   "outputs": [
    {
     "name": "stderr",
     "output_type": "stream",
     "text": [
      "/tmp/ipykernel_6009/3481161173.py:5: FutureWarning: Downcasting object dtype arrays on .fillna, .ffill, .bfill is deprecated and will change in a future version. Call result.infer_objects(copy=False) instead. To opt-in to the future behavior, set `pd.set_option('future.no_silent_downcasting', True)`\n",
      "  df[col] = df[col].fillna(df[col].mode()[0])\n"
     ]
    },
    {
     "data": {
      "text/plain": [
       "age         0\n",
       "sex         0\n",
       "dataset     0\n",
       "cp          0\n",
       "trestbps    0\n",
       "chol        0\n",
       "fbs         0\n",
       "restecg     0\n",
       "thalch      0\n",
       "exang       0\n",
       "oldpeak     0\n",
       "slope       0\n",
       "ca          0\n",
       "thal        0\n",
       "num         0\n",
       "dtype: int64"
      ]
     },
     "execution_count": 33,
     "metadata": {},
     "output_type": "execute_result"
    }
   ],
   "source": [
    "for col in [\"trestbps\", \"chol\", \"thalch\", \"oldpeak\"]:\n",
    "    df[col] = df[col].fillna(df[col].mean())\n",
    "\n",
    "for col in [\"fbs\", \"restecg\", \"exang\", \"slope\", \"ca\", \"thal\"]:\n",
    "    df[col] = df[col].fillna(df[col].mode()[0])\n",
    "\n",
    "df.isna().sum()"
   ]
  },
  {
   "cell_type": "markdown",
   "metadata": {
    "id": "p5eYuIUYepeM"
   },
   "source": [
    "Transformiranje kategoričkih značajki u numeričke."
   ]
  },
  {
   "cell_type": "code",
   "execution_count": null,
   "metadata": {
    "id": "ujg6U2k0evhM"
   },
   "outputs": [
    {
     "data": {
      "text/html": [
       "<div>\n",
       "<style scoped>\n",
       "    .dataframe tbody tr th:only-of-type {\n",
       "        vertical-align: middle;\n",
       "    }\n",
       "\n",
       "    .dataframe tbody tr th {\n",
       "        vertical-align: top;\n",
       "    }\n",
       "\n",
       "    .dataframe thead th {\n",
       "        text-align: right;\n",
       "    }\n",
       "</style>\n",
       "<table border=\"1\" class=\"dataframe\">\n",
       "  <thead>\n",
       "    <tr style=\"text-align: right;\">\n",
       "      <th></th>\n",
       "      <th>age</th>\n",
       "      <th>sex</th>\n",
       "      <th>dataset</th>\n",
       "      <th>cp</th>\n",
       "      <th>trestbps</th>\n",
       "      <th>chol</th>\n",
       "      <th>fbs</th>\n",
       "      <th>restecg</th>\n",
       "      <th>thalch</th>\n",
       "      <th>exang</th>\n",
       "      <th>...</th>\n",
       "      <th>thal</th>\n",
       "      <th>num</th>\n",
       "      <th>sex_num</th>\n",
       "      <th>dataset_num</th>\n",
       "      <th>cp_num</th>\n",
       "      <th>fbs_num</th>\n",
       "      <th>restecg_num</th>\n",
       "      <th>exang_num</th>\n",
       "      <th>slope_num</th>\n",
       "      <th>thal_num</th>\n",
       "    </tr>\n",
       "  </thead>\n",
       "  <tbody>\n",
       "    <tr>\n",
       "      <th>0</th>\n",
       "      <td>63</td>\n",
       "      <td>Male</td>\n",
       "      <td>Cleveland</td>\n",
       "      <td>typical angina</td>\n",
       "      <td>145.0</td>\n",
       "      <td>233.0</td>\n",
       "      <td>True</td>\n",
       "      <td>lv hypertrophy</td>\n",
       "      <td>150.0</td>\n",
       "      <td>False</td>\n",
       "      <td>...</td>\n",
       "      <td>fixed defect</td>\n",
       "      <td>0</td>\n",
       "      <td>1</td>\n",
       "      <td>0</td>\n",
       "      <td>3</td>\n",
       "      <td>1</td>\n",
       "      <td>0</td>\n",
       "      <td>0</td>\n",
       "      <td>0</td>\n",
       "      <td>0</td>\n",
       "    </tr>\n",
       "    <tr>\n",
       "      <th>1</th>\n",
       "      <td>67</td>\n",
       "      <td>Male</td>\n",
       "      <td>Cleveland</td>\n",
       "      <td>asymptomatic</td>\n",
       "      <td>160.0</td>\n",
       "      <td>286.0</td>\n",
       "      <td>False</td>\n",
       "      <td>lv hypertrophy</td>\n",
       "      <td>108.0</td>\n",
       "      <td>True</td>\n",
       "      <td>...</td>\n",
       "      <td>normal</td>\n",
       "      <td>2</td>\n",
       "      <td>1</td>\n",
       "      <td>0</td>\n",
       "      <td>0</td>\n",
       "      <td>0</td>\n",
       "      <td>0</td>\n",
       "      <td>1</td>\n",
       "      <td>1</td>\n",
       "      <td>1</td>\n",
       "    </tr>\n",
       "    <tr>\n",
       "      <th>2</th>\n",
       "      <td>67</td>\n",
       "      <td>Male</td>\n",
       "      <td>Cleveland</td>\n",
       "      <td>asymptomatic</td>\n",
       "      <td>120.0</td>\n",
       "      <td>229.0</td>\n",
       "      <td>False</td>\n",
       "      <td>lv hypertrophy</td>\n",
       "      <td>129.0</td>\n",
       "      <td>True</td>\n",
       "      <td>...</td>\n",
       "      <td>reversable defect</td>\n",
       "      <td>1</td>\n",
       "      <td>1</td>\n",
       "      <td>0</td>\n",
       "      <td>0</td>\n",
       "      <td>0</td>\n",
       "      <td>0</td>\n",
       "      <td>1</td>\n",
       "      <td>1</td>\n",
       "      <td>2</td>\n",
       "    </tr>\n",
       "    <tr>\n",
       "      <th>3</th>\n",
       "      <td>37</td>\n",
       "      <td>Male</td>\n",
       "      <td>Cleveland</td>\n",
       "      <td>non-anginal</td>\n",
       "      <td>130.0</td>\n",
       "      <td>250.0</td>\n",
       "      <td>False</td>\n",
       "      <td>normal</td>\n",
       "      <td>187.0</td>\n",
       "      <td>False</td>\n",
       "      <td>...</td>\n",
       "      <td>normal</td>\n",
       "      <td>0</td>\n",
       "      <td>1</td>\n",
       "      <td>0</td>\n",
       "      <td>2</td>\n",
       "      <td>0</td>\n",
       "      <td>1</td>\n",
       "      <td>0</td>\n",
       "      <td>0</td>\n",
       "      <td>1</td>\n",
       "    </tr>\n",
       "    <tr>\n",
       "      <th>4</th>\n",
       "      <td>41</td>\n",
       "      <td>Female</td>\n",
       "      <td>Cleveland</td>\n",
       "      <td>atypical angina</td>\n",
       "      <td>130.0</td>\n",
       "      <td>204.0</td>\n",
       "      <td>False</td>\n",
       "      <td>lv hypertrophy</td>\n",
       "      <td>172.0</td>\n",
       "      <td>False</td>\n",
       "      <td>...</td>\n",
       "      <td>normal</td>\n",
       "      <td>0</td>\n",
       "      <td>0</td>\n",
       "      <td>0</td>\n",
       "      <td>1</td>\n",
       "      <td>0</td>\n",
       "      <td>0</td>\n",
       "      <td>0</td>\n",
       "      <td>2</td>\n",
       "      <td>1</td>\n",
       "    </tr>\n",
       "  </tbody>\n",
       "</table>\n",
       "<p>5 rows × 23 columns</p>\n",
       "</div>"
      ],
      "text/plain": [
       "   age     sex    dataset               cp  trestbps   chol    fbs  \\\n",
       "0   63    Male  Cleveland   typical angina     145.0  233.0   True   \n",
       "1   67    Male  Cleveland     asymptomatic     160.0  286.0  False   \n",
       "2   67    Male  Cleveland     asymptomatic     120.0  229.0  False   \n",
       "3   37    Male  Cleveland      non-anginal     130.0  250.0  False   \n",
       "4   41  Female  Cleveland  atypical angina     130.0  204.0  False   \n",
       "\n",
       "          restecg  thalch  exang  ...               thal num  sex_num  \\\n",
       "0  lv hypertrophy   150.0  False  ...       fixed defect   0        1   \n",
       "1  lv hypertrophy   108.0   True  ...             normal   2        1   \n",
       "2  lv hypertrophy   129.0   True  ...  reversable defect   1        1   \n",
       "3          normal   187.0  False  ...             normal   0        1   \n",
       "4  lv hypertrophy   172.0  False  ...             normal   0        0   \n",
       "\n",
       "  dataset_num  cp_num  fbs_num  restecg_num  exang_num  slope_num  thal_num  \n",
       "0           0       3        1            0          0          0         0  \n",
       "1           0       0        0            0          1          1         1  \n",
       "2           0       0        0            0          1          1         2  \n",
       "3           0       2        0            1          0          0         1  \n",
       "4           0       1        0            0          0          2         1  \n",
       "\n",
       "[5 rows x 23 columns]"
      ]
     },
     "execution_count": 34,
     "metadata": {},
     "output_type": "execute_result"
    }
   ],
   "source": [
    "for col in [\"sex\", \"dataset\", \"cp\", \"fbs\", \"restecg\", \"exang\", \"slope\", \"thal\"]:\n",
    "    df[f\"{col}_num\"] = df[col].astype(\"category\").cat.codes\n",
    "df.head()"
   ]
  },
  {
   "cell_type": "markdown",
   "metadata": {
    "id": "eWQ8Ggn8ewmq"
   },
   "source": [
    "Statistika numeričkih značajki"
   ]
  },
  {
   "cell_type": "code",
   "execution_count": null,
   "metadata": {
    "id": "g5FhlAeJfBvB"
   },
   "outputs": [
    {
     "data": {
      "text/html": [
       "<div>\n",
       "<style scoped>\n",
       "    .dataframe tbody tr th:only-of-type {\n",
       "        vertical-align: middle;\n",
       "    }\n",
       "\n",
       "    .dataframe tbody tr th {\n",
       "        vertical-align: top;\n",
       "    }\n",
       "\n",
       "    .dataframe thead th {\n",
       "        text-align: right;\n",
       "    }\n",
       "</style>\n",
       "<table border=\"1\" class=\"dataframe\">\n",
       "  <thead>\n",
       "    <tr style=\"text-align: right;\">\n",
       "      <th></th>\n",
       "      <th>trestbps</th>\n",
       "      <th>chol</th>\n",
       "      <th>thalch</th>\n",
       "      <th>oldpeak</th>\n",
       "    </tr>\n",
       "  </thead>\n",
       "  <tbody>\n",
       "    <tr>\n",
       "      <th>count</th>\n",
       "      <td>920.000000</td>\n",
       "      <td>920.000000</td>\n",
       "      <td>920.000000</td>\n",
       "      <td>920.000000</td>\n",
       "    </tr>\n",
       "    <tr>\n",
       "      <th>mean</th>\n",
       "      <td>132.132404</td>\n",
       "      <td>199.130337</td>\n",
       "      <td>137.545665</td>\n",
       "      <td>0.878788</td>\n",
       "    </tr>\n",
       "    <tr>\n",
       "      <th>std</th>\n",
       "      <td>18.443895</td>\n",
       "      <td>108.957634</td>\n",
       "      <td>25.138494</td>\n",
       "      <td>1.053774</td>\n",
       "    </tr>\n",
       "    <tr>\n",
       "      <th>min</th>\n",
       "      <td>0.000000</td>\n",
       "      <td>0.000000</td>\n",
       "      <td>60.000000</td>\n",
       "      <td>-2.600000</td>\n",
       "    </tr>\n",
       "    <tr>\n",
       "      <th>25%</th>\n",
       "      <td>120.000000</td>\n",
       "      <td>177.750000</td>\n",
       "      <td>120.000000</td>\n",
       "      <td>0.000000</td>\n",
       "    </tr>\n",
       "    <tr>\n",
       "      <th>50%</th>\n",
       "      <td>130.000000</td>\n",
       "      <td>221.000000</td>\n",
       "      <td>138.000000</td>\n",
       "      <td>0.800000</td>\n",
       "    </tr>\n",
       "    <tr>\n",
       "      <th>75%</th>\n",
       "      <td>140.000000</td>\n",
       "      <td>267.000000</td>\n",
       "      <td>156.000000</td>\n",
       "      <td>1.500000</td>\n",
       "    </tr>\n",
       "    <tr>\n",
       "      <th>max</th>\n",
       "      <td>200.000000</td>\n",
       "      <td>603.000000</td>\n",
       "      <td>202.000000</td>\n",
       "      <td>6.200000</td>\n",
       "    </tr>\n",
       "  </tbody>\n",
       "</table>\n",
       "</div>"
      ],
      "text/plain": [
       "         trestbps        chol      thalch     oldpeak\n",
       "count  920.000000  920.000000  920.000000  920.000000\n",
       "mean   132.132404  199.130337  137.545665    0.878788\n",
       "std     18.443895  108.957634   25.138494    1.053774\n",
       "min      0.000000    0.000000   60.000000   -2.600000\n",
       "25%    120.000000  177.750000  120.000000    0.000000\n",
       "50%    130.000000  221.000000  138.000000    0.800000\n",
       "75%    140.000000  267.000000  156.000000    1.500000\n",
       "max    200.000000  603.000000  202.000000    6.200000"
      ]
     },
     "execution_count": 35,
     "metadata": {},
     "output_type": "execute_result"
    }
   ],
   "source": [
    "numerical = [\"trestbps\", \"chol\", \"thalch\", \"oldpeak\"]\n",
    "df[numerical].describe()"
   ]
  },
  {
   "cell_type": "code",
   "execution_count": null,
   "metadata": {},
   "outputs": [
    {
     "name": "stdout",
     "output_type": "stream",
     "text": [
      "Stupac sex\n",
      "sex\n",
      "Female    194\n",
      "Male      726\n",
      "Name: sex, dtype: int64\n",
      "-----------\n",
      "Stupac dataset\n",
      "dataset\n",
      "Cleveland        304\n",
      "Hungary          293\n",
      "Switzerland      123\n",
      "VA Long Beach    200\n",
      "Name: dataset, dtype: int64\n",
      "-----------\n",
      "Stupac cp\n",
      "cp\n",
      "asymptomatic       496\n",
      "atypical angina    174\n",
      "non-anginal        204\n",
      "typical angina      46\n",
      "Name: cp, dtype: int64\n",
      "-----------\n",
      "Stupac fbs\n",
      "fbs\n",
      "False    782\n",
      "True     138\n",
      "Name: fbs, dtype: int64\n",
      "-----------\n",
      "Stupac restecg\n",
      "restecg\n",
      "lv hypertrophy      188\n",
      "normal              553\n",
      "st-t abnormality    179\n",
      "Name: restecg, dtype: int64\n",
      "-----------\n",
      "Stupac exang\n",
      "exang\n",
      "False    583\n",
      "True     337\n",
      "Name: exang, dtype: int64\n",
      "-----------\n",
      "Stupac slope\n",
      "slope\n",
      "downsloping     63\n",
      "flat           654\n",
      "upsloping      203\n",
      "Name: slope, dtype: int64\n",
      "-----------\n",
      "Stupac thal\n",
      "thal\n",
      "fixed defect          46\n",
      "normal               682\n",
      "reversable defect    192\n",
      "Name: thal, dtype: int64\n",
      "-----------\n"
     ]
    }
   ],
   "source": [
    "for col in [\"sex\", \"dataset\", \"cp\", \"fbs\", \"restecg\", \"exang\", \"slope\", \"thal\"]:\n",
    "    print(f\"Stupac {col}\")\n",
    "    print(df.groupby(col)[col].count())\n",
    "    print(\"-----------\")"
   ]
  },
  {
   "cell_type": "markdown",
   "metadata": {
    "id": "pbcIa2zhfGCE"
   },
   "source": [
    "Normalizacija numeričkih značajki."
   ]
  },
  {
   "cell_type": "code",
   "execution_count": null,
   "metadata": {
    "id": "oFpbD2Q4fKzN"
   },
   "outputs": [
    {
     "data": {
      "text/html": [
       "<div>\n",
       "<style scoped>\n",
       "    .dataframe tbody tr th:only-of-type {\n",
       "        vertical-align: middle;\n",
       "    }\n",
       "\n",
       "    .dataframe tbody tr th {\n",
       "        vertical-align: top;\n",
       "    }\n",
       "\n",
       "    .dataframe thead th {\n",
       "        text-align: right;\n",
       "    }\n",
       "</style>\n",
       "<table border=\"1\" class=\"dataframe\">\n",
       "  <thead>\n",
       "    <tr style=\"text-align: right;\">\n",
       "      <th></th>\n",
       "      <th>age</th>\n",
       "      <th>sex</th>\n",
       "      <th>dataset</th>\n",
       "      <th>cp</th>\n",
       "      <th>trestbps</th>\n",
       "      <th>chol</th>\n",
       "      <th>fbs</th>\n",
       "      <th>restecg</th>\n",
       "      <th>thalch</th>\n",
       "      <th>exang</th>\n",
       "      <th>...</th>\n",
       "      <th>thal</th>\n",
       "      <th>num</th>\n",
       "      <th>sex_num</th>\n",
       "      <th>dataset_num</th>\n",
       "      <th>cp_num</th>\n",
       "      <th>fbs_num</th>\n",
       "      <th>restecg_num</th>\n",
       "      <th>exang_num</th>\n",
       "      <th>slope_num</th>\n",
       "      <th>thal_num</th>\n",
       "    </tr>\n",
       "  </thead>\n",
       "  <tbody>\n",
       "    <tr>\n",
       "      <th>0</th>\n",
       "      <td>63</td>\n",
       "      <td>Male</td>\n",
       "      <td>Cleveland</td>\n",
       "      <td>typical angina</td>\n",
       "      <td>0.697662</td>\n",
       "      <td>0.310852</td>\n",
       "      <td>True</td>\n",
       "      <td>lv hypertrophy</td>\n",
       "      <td>0.495429</td>\n",
       "      <td>False</td>\n",
       "      <td>...</td>\n",
       "      <td>fixed defect</td>\n",
       "      <td>0</td>\n",
       "      <td>1</td>\n",
       "      <td>0</td>\n",
       "      <td>3</td>\n",
       "      <td>1</td>\n",
       "      <td>0</td>\n",
       "      <td>0</td>\n",
       "      <td>0</td>\n",
       "      <td>0</td>\n",
       "    </tr>\n",
       "    <tr>\n",
       "      <th>1</th>\n",
       "      <td>67</td>\n",
       "      <td>Male</td>\n",
       "      <td>Cleveland</td>\n",
       "      <td>asymptomatic</td>\n",
       "      <td>1.510939</td>\n",
       "      <td>0.797279</td>\n",
       "      <td>False</td>\n",
       "      <td>lv hypertrophy</td>\n",
       "      <td>-1.175316</td>\n",
       "      <td>True</td>\n",
       "      <td>...</td>\n",
       "      <td>normal</td>\n",
       "      <td>2</td>\n",
       "      <td>1</td>\n",
       "      <td>0</td>\n",
       "      <td>0</td>\n",
       "      <td>0</td>\n",
       "      <td>0</td>\n",
       "      <td>1</td>\n",
       "      <td>1</td>\n",
       "      <td>1</td>\n",
       "    </tr>\n",
       "    <tr>\n",
       "      <th>2</th>\n",
       "      <td>67</td>\n",
       "      <td>Male</td>\n",
       "      <td>Cleveland</td>\n",
       "      <td>asymptomatic</td>\n",
       "      <td>-0.657801</td>\n",
       "      <td>0.274140</td>\n",
       "      <td>False</td>\n",
       "      <td>lv hypertrophy</td>\n",
       "      <td>-0.339943</td>\n",
       "      <td>True</td>\n",
       "      <td>...</td>\n",
       "      <td>reversable defect</td>\n",
       "      <td>1</td>\n",
       "      <td>1</td>\n",
       "      <td>0</td>\n",
       "      <td>0</td>\n",
       "      <td>0</td>\n",
       "      <td>0</td>\n",
       "      <td>1</td>\n",
       "      <td>1</td>\n",
       "      <td>2</td>\n",
       "    </tr>\n",
       "    <tr>\n",
       "      <th>3</th>\n",
       "      <td>37</td>\n",
       "      <td>Male</td>\n",
       "      <td>Cleveland</td>\n",
       "      <td>non-anginal</td>\n",
       "      <td>-0.115616</td>\n",
       "      <td>0.466876</td>\n",
       "      <td>False</td>\n",
       "      <td>normal</td>\n",
       "      <td>1.967275</td>\n",
       "      <td>False</td>\n",
       "      <td>...</td>\n",
       "      <td>normal</td>\n",
       "      <td>0</td>\n",
       "      <td>1</td>\n",
       "      <td>0</td>\n",
       "      <td>2</td>\n",
       "      <td>0</td>\n",
       "      <td>1</td>\n",
       "      <td>0</td>\n",
       "      <td>0</td>\n",
       "      <td>1</td>\n",
       "    </tr>\n",
       "    <tr>\n",
       "      <th>4</th>\n",
       "      <td>41</td>\n",
       "      <td>Female</td>\n",
       "      <td>Cleveland</td>\n",
       "      <td>atypical angina</td>\n",
       "      <td>-0.115616</td>\n",
       "      <td>0.044693</td>\n",
       "      <td>False</td>\n",
       "      <td>lv hypertrophy</td>\n",
       "      <td>1.370581</td>\n",
       "      <td>False</td>\n",
       "      <td>...</td>\n",
       "      <td>normal</td>\n",
       "      <td>0</td>\n",
       "      <td>0</td>\n",
       "      <td>0</td>\n",
       "      <td>1</td>\n",
       "      <td>0</td>\n",
       "      <td>0</td>\n",
       "      <td>0</td>\n",
       "      <td>2</td>\n",
       "      <td>1</td>\n",
       "    </tr>\n",
       "  </tbody>\n",
       "</table>\n",
       "<p>5 rows × 23 columns</p>\n",
       "</div>"
      ],
      "text/plain": [
       "   age     sex    dataset               cp  trestbps      chol    fbs  \\\n",
       "0   63    Male  Cleveland   typical angina  0.697662  0.310852   True   \n",
       "1   67    Male  Cleveland     asymptomatic  1.510939  0.797279  False   \n",
       "2   67    Male  Cleveland     asymptomatic -0.657801  0.274140  False   \n",
       "3   37    Male  Cleveland      non-anginal -0.115616  0.466876  False   \n",
       "4   41  Female  Cleveland  atypical angina -0.115616  0.044693  False   \n",
       "\n",
       "          restecg    thalch  exang  ...               thal num  sex_num  \\\n",
       "0  lv hypertrophy  0.495429  False  ...       fixed defect   0        1   \n",
       "1  lv hypertrophy -1.175316   True  ...             normal   2        1   \n",
       "2  lv hypertrophy -0.339943   True  ...  reversable defect   1        1   \n",
       "3          normal  1.967275  False  ...             normal   0        1   \n",
       "4  lv hypertrophy  1.370581  False  ...             normal   0        0   \n",
       "\n",
       "  dataset_num  cp_num  fbs_num  restecg_num  exang_num  slope_num  thal_num  \n",
       "0           0       3        1            0          0          0         0  \n",
       "1           0       0        0            0          1          1         1  \n",
       "2           0       0        0            0          1          1         2  \n",
       "3           0       2        0            1          0          0         1  \n",
       "4           0       1        0            0          0          2         1  \n",
       "\n",
       "[5 rows x 23 columns]"
      ]
     },
     "execution_count": 37,
     "metadata": {},
     "output_type": "execute_result"
    }
   ],
   "source": [
    "for col in numerical:\n",
    "        mean = df[col].mean()\n",
    "        std = df[col].std()\n",
    "        df[col] = (df[col] - mean) / std\n",
    "df.head()"
   ]
  },
  {
   "cell_type": "markdown",
   "metadata": {
    "id": "Reu-ZdjVfOj7"
   },
   "source": [
    "Vizualizacija"
   ]
  },
  {
   "cell_type": "code",
   "execution_count": null,
   "metadata": {
    "id": "pd0xZC41frtr"
   },
   "outputs": [
    {
     "data": {
      "text/plain": [
       "Text(0.5, 1.0, 'Toplinska mapa')"
      ]
     },
     "execution_count": 61,
     "metadata": {},
     "output_type": "execute_result"
    },
    {
     "data": {
      "image/png": "[encoded data removed]",
      "text/plain": [
       "<Figure size 1296x864 with 2 Axes>"
      ]
     },
     "metadata": {
      "needs_background": "light"
     },
     "output_type": "display_data"
    }
   ],
   "source": [
    "plt.figure(figsize=(18, 12))\n",
    "sns.heatmap(df[[\"sex_num\", \"dataset_num\", \"cp_num\", \"trestbps\", \"fbs_num\", \"restecg_num\", \"exang_num\", \"slope_num\", \"thal_num\"]].corr(), annot=True, fmt=\".2f\", cmap=\"YlGnBu\")\n",
    "plt.title(\"Toplinska mapa\")"
   ]
  },
  {
   "cell_type": "code",
   "execution_count": 69,
   "metadata": {},
   "outputs": [
    {
     "data": {
      "image/png": "[encoded data removed]",
      "text/plain": [
       "<Figure size 1296x864 with 4 Axes>"
      ]
     },
     "metadata": {
      "needs_background": "light"
     },
     "output_type": "display_data"
    }
   ],
   "source": [
    "plt.figure(figsize=(18, 12))\n",
    "\n",
    "for i, col in enumerate(numerical):\n",
    "    plt.subplot(2,2,i+1)\n",
    "    plt.xlabel(\"Age\")\n",
    "    plt.ylabel(col)\n",
    "    plt.scatter(df[\"age\"], df[col])\n",
    "plt.show()"
   ]
  }
 ],
 "metadata": {
  "colab": {
   "provenance": []
  },
  "kernelspec": {
   "display_name": "Python 3",
   "language": "python",
   "name": "python3"
  },
  "language_info": {
   "codemirror_mode": {
    "name": "ipython",
    "version": 3
   },
   "file_extension": ".py",
   "mimetype": "text/x-python",
   "name": "python",
   "nbconvert_exporter": "python",
   "pygments_lexer": "ipython3",
   "version": "3.10.12"
  }
 },
 "nbformat": 4,
 "nbformat_minor": 0
}
